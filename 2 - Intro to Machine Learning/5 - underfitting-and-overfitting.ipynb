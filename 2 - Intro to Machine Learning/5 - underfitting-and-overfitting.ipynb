{
 "cells": [
  {
   "cell_type": "markdown",
   "source": [
    "At the end of this step, you will understand the concepts of underfitting and overfitting, and you will be able to apply these ideas to make your models more accurate.\n",
    "\n",
    "# Experimenting With Different Models\n",
    "\n",
    "Now that you have a reliable way to measure model accuracy, you can experiment with alternative models and see which gives the best predictions.  But what alternatives do you have for models?\n",
    "\n",
    "You can see in scikit-learn's [documentation](http://scikit-learn.org/stable/modules/generated/sklearn.tree.DecisionTreeRegressor.html) that the decision tree model has many options (more than you'll want or need for a long time). The most important options determine the tree's depth.  Recall from [the first lesson in this course](https://www.kaggle.com/dansbecker/how-models-work) that a tree's depth is a measure of how many splits it makes before coming to a prediction.  This is a relatively shallow tree\n",
    "\n",
    "![Depth 2 Tree](http://i.imgur.com/R3ywQsR.png)\n",
    "\n",
    "In practice, it's not uncommon for a tree to have 10 splits between the top level (all houses) and a leaf.  As the tree gets deeper, the dataset gets sliced up into leaves with fewer houses.  If a tree only had 1 split, it divides the data into 2 groups. If each group is split again, we would get 4 groups of houses.  Splitting each of those again would create 8 groups.  If we keep doubling the number of groups by adding more splits at each level, we'll have \\\\(2^{10}\\\\) groups of houses by the time we get to the 10th level. That's 1024 leaves.  \n",
    "\n",
    "When we divide the houses amongst many leaves, we also have fewer houses in each leaf.  Leaves with very few houses will make predictions that are quite close to those homes' actual values, but they may make very unreliable predictions for new data (because each prediction is based on only a few houses).\n",
    "\n",
    "This is a phenomenon called **overfitting**, where a model matches the training data almost perfectly, but does poorly in validation and other new data.  On the flip side, if we make our tree very shallow, it doesn't divide up the houses into very distinct groups.  \n",
    "\n",
    "At an extreme, if a tree divides houses into only 2 or 4, each group still has a wide variety of houses. Resulting predictions may be far off for most houses, even in the training data (and it will be bad in validation too for the same reason). When a model fails to capture important distinctions and patterns in the data, so it performs poorly even in training data, that is called **underfitting**.  \n",
    "\n",
    "Since we care about accuracy on new data, which we estimate from our validation data, we want to find the sweet spot between underfitting and overfitting.  Visually, we want the low point of the (red) validation curve in the figure below.\n",
    "\n",
    "![underfitting_overfitting](http://i.imgur.com/AXSEOfI.png)\n",
    "\n",
    "# Example\n",
    "There are a few alternatives for controlling the tree depth, and many allow for some routes through the tree to have greater depth than other routes.  But the *max_leaf_nodes* argument provides a very sensible way to control overfitting vs underfitting.  The more leaves we allow the model to make, the more we move from the underfitting area in the above graph to the overfitting area.\n",
    "\n",
    "We can use a utility function to help compare MAE scores from different values for *max_leaf_nodes*:\n"
   ],
   "metadata": {}
  },
  {
   "cell_type": "code",
   "execution_count": 1,
   "source": [
    "from sklearn.metrics import mean_absolute_error\r\n",
    "from sklearn.tree import DecisionTreeRegressor\r\n",
    "\r\n",
    "def get_mae(max_leaf_nodes, train_X, val_X, train_y, val_y):\r\n",
    "    model = DecisionTreeRegressor(max_leaf_nodes=max_leaf_nodes, random_state=0)\r\n",
    "    model.fit(train_X, train_y)\r\n",
    "    preds_val = model.predict(val_X)\r\n",
    "    mae = mean_absolute_error(val_y, preds_val)\r\n",
    "    return(mae)"
   ],
   "outputs": [],
   "metadata": {
    "jupyter": {
     "outputs_hidden": true
    }
   }
  },
  {
   "cell_type": "markdown",
   "source": [
    "The data is loaded into **train_X**, **val_X**, **train_y** and **val_y** using the code you've already seen (and which you've already written)."
   ],
   "metadata": {}
  },
  {
   "cell_type": "code",
   "execution_count": 2,
   "source": [
    "# Data Loading Code Runs At This Point\r\n",
    "import pandas as pd\r\n",
    "    \r\n",
    "# Load data\r\n",
    "#melbourne_file_path = '../input/melbourne-housing-snapshot/melb_data.csv'\r\n",
    "melbourne_file_path = 'melb_data.csv'\r\n",
    "\r\n",
    "melbourne_data = pd.read_csv(melbourne_file_path) \r\n",
    "# Filter rows with missing values\r\n",
    "filtered_melbourne_data = melbourne_data.dropna(axis=0)\r\n",
    "# Choose target and features\r\n",
    "y = filtered_melbourne_data.Price\r\n",
    "melbourne_features = ['Rooms', 'Bathroom', 'Landsize', 'BuildingArea', \r\n",
    "                        'YearBuilt', 'Lattitude', 'Longtitude']\r\n",
    "X = filtered_melbourne_data[melbourne_features]\r\n",
    "\r\n",
    "from sklearn.model_selection import train_test_split\r\n",
    "\r\n",
    "# split data into training and validation data, for both features and target\r\n",
    "train_X, val_X, train_y, val_y = train_test_split(X, y,random_state = 0)"
   ],
   "outputs": [],
   "metadata": {
    "_kg_hide-input": true,
    "_kg_hide-output": true,
    "jupyter": {
     "outputs_hidden": true
    }
   }
  },
  {
   "cell_type": "markdown",
   "source": [
    "We can use a for-loop to compare the accuracy of models built with different values for *max_leaf_nodes.*"
   ],
   "metadata": {}
  },
  {
   "cell_type": "code",
   "execution_count": 8,
   "source": [
    "# compare MAE with differing values of max_leaf_nodes\r\n",
    "for max_leaf_nodes in [5,10,15,25 ,50, 500,1000, 5000,10000,15000,20000]:\r\n",
    "    my_mae = get_mae(max_leaf_nodes, train_X, val_X, train_y, val_y)\r\n",
    "    #print(\"Max leaf nodes: %d  \\t\\t Mean Absolute Error:  %d\" %(max_leaf_nodes, my_mae))\r\n",
    "    #print(\"Max leaf nodes: {}  \\t\\t Mean Absolute Error:  {}\".format(max_leaf_nodes, my_mae))\r\n",
    "    print(f\"Max leaf nodes: {max_leaf_nodes}  \\t\\t Mean Absolute Error:  {my_mae}\")"
   ],
   "outputs": [
    {
     "output_type": "stream",
     "name": "stdout",
     "text": [
      "Max leaf nodes: 5  \t\t Mean Absolute Error:  347380.33833344496\n",
      "Max leaf nodes: 10  \t\t Mean Absolute Error:  317645.7304308133\n",
      "Max leaf nodes: 15  \t\t Mean Absolute Error:  297063.99912465486\n",
      "Max leaf nodes: 25  \t\t Mean Absolute Error:  271044.0317616614\n",
      "Max leaf nodes: 50  \t\t Mean Absolute Error:  258171.21202406782\n",
      "Max leaf nodes: 500  \t\t Mean Absolute Error:  243495.96361790417\n",
      "Max leaf nodes: 1000  \t\t Mean Absolute Error:  247345.74849135685\n",
      "Max leaf nodes: 5000  \t\t Mean Absolute Error:  254983.64299548094\n",
      "Max leaf nodes: 10000  \t\t Mean Absolute Error:  254983.64299548094\n",
      "Max leaf nodes: 15000  \t\t Mean Absolute Error:  254983.64299548094\n",
      "Max leaf nodes: 20000  \t\t Mean Absolute Error:  254983.64299548094\n"
     ]
    }
   ],
   "metadata": {
    "jupyter": {
     "outputs_hidden": true
    }
   }
  },
  {
   "cell_type": "markdown",
   "source": [
    "\n",
    "Of the options listed, 500 is the optimal number of leaves.\n",
    "\n",
    "---\n",
    "\n",
    "# Conclusion\n",
    "\n",
    "Here's the takeaway: Models can suffer from either:\n",
    "- **Overfitting:** capturing spurious patterns that won't recur in the future, leading to less accurate predictions, or \n",
    "- **Underfitting:** failing to capture relevant patterns, again leading to less accurate predictions. \n",
    "\n",
    "We use **validation** data, which isn't used in model training, to measure a candidate model's accuracy. This lets us try many candidate models and keep the best one. \n",
    "\n",
    "\n",
    "\n",
    "# Your Turn\n",
    "\n",
    "Try **[optimizing the model you've previously built](https://www.kaggle.com/kernels/fork/1259126)**."
   ],
   "metadata": {}
  },
  {
   "cell_type": "markdown",
   "source": [
    "---\n",
    "\n",
    "\n",
    "\n",
    "\n",
    "*Have questions or comments? Visit the [Learn Discussion forum](https://www.kaggle.com/learn-forum/161285) to chat with other Learners.*"
   ],
   "metadata": {}
  }
 ],
 "metadata": {
  "kernelspec": {
   "name": "python3",
   "display_name": "Python 3.9.6 64-bit"
  },
  "language_info": {
   "codemirror_mode": {
    "name": "ipython",
    "version": 3
   },
   "file_extension": ".py",
   "mimetype": "text/x-python",
   "name": "python",
   "nbconvert_exporter": "python",
   "pygments_lexer": "ipython3",
   "version": "3.9.6"
  },
  "interpreter": {
   "hash": "0ec66bbe782f389edb8615b95e71913b48001538f92dc4d53a6c71a0eff16772"
  }
 },
 "nbformat": 4,
 "nbformat_minor": 4
}