{
 "cells": [
  {
   "cell_type": "markdown",
   "source": [
    "Loops\r\n",
    "Loops are a way to repeatedly execute some code. Here's an example:"
   ],
   "metadata": {}
  },
  {
   "cell_type": "code",
   "execution_count": 2,
   "source": [
    "planets = ['Mercury', 'Venus', 'Earth', 'Mars',\r\n",
    "           'Jupiter', 'Saturn', 'Uranus', 'Neptune']\r\n",
    "for planet in planets:\r\n",
    "    print(planet, end=' ')  # print all on same line\r\n"
   ],
   "outputs": [
    {
     "output_type": "stream",
     "name": "stdout",
     "text": [
      "Mercury Venus Earth Mars Jupiter Saturn Uranus Neptune "
     ]
    }
   ],
   "metadata": {}
  },
  {
   "cell_type": "markdown",
   "source": [
    "The for loop specifies\r\n",
    "\r\n",
    "the variable name to use (in this case, planet)\r\n",
    "the set of values to loop over (in this case, planets)\r\n",
    "You use the word \"in\" to link them together.\r\n",
    "\r\n",
    "The object to the right of the \"in\" can be any object that supports iteration. Basically, if it can be thought of as a group of things, you can probably loop over it. In addition to lists, we can iterate over the elements of a tuple:"
   ],
   "metadata": {}
  },
  {
   "cell_type": "code",
   "execution_count": 3,
   "source": [
    "multiplicands = (2, 2, 2, 3, 3, 5)\r\n",
    "\r\n",
    "product = 1\r\n",
    "\r\n",
    "for mult in multiplicands:\r\n",
    "    product = product * mult\r\n",
    "\r\n",
    "product\r\n"
   ],
   "outputs": [
    {
     "output_type": "execute_result",
     "data": {
      "text/plain": [
       "360"
      ]
     },
     "metadata": {},
     "execution_count": 3
    }
   ],
   "metadata": {}
  },
  {
   "cell_type": "markdown",
   "source": [
    "You can even loop through each character in a string:"
   ],
   "metadata": {}
  },
  {
   "cell_type": "code",
   "execution_count": 4,
   "source": [
    "s = 'steganograpHy is the practicE of conceaLing a file, message, image, or video within another fiLe, message, image, Or video.'\r\n",
    "\r\n",
    "msg = ''\r\n",
    "\r\n",
    "# print all the uppercase letters in s, one at a time\r\n",
    "for char in s:\r\n",
    "    if char.isupper():\r\n",
    "        print(char, end='')\r\n"
   ],
   "outputs": [
    {
     "output_type": "stream",
     "name": "stdout",
     "text": [
      "HELLO"
     ]
    }
   ],
   "metadata": {}
  },
  {
   "cell_type": "markdown",
   "source": [
    "range()\r\n",
    "range() is a function that returns a sequence of numbers. It turns out to be very useful for writing loops.\r\n",
    "\r\n",
    "For example, if we want to repeat some action 5 times:"
   ],
   "metadata": {}
  },
  {
   "cell_type": "code",
   "execution_count": 5,
   "source": [
    "for i in range(5):\r\n",
    "    print(\"Doing important work. i =\", i)\r\n"
   ],
   "outputs": [
    {
     "output_type": "stream",
     "name": "stdout",
     "text": [
      "Doing important work. i = 0\n",
      "Doing important work. i = 1\n",
      "Doing important work. i = 2\n",
      "Doing important work. i = 3\n",
      "Doing important work. i = 4\n"
     ]
    }
   ],
   "metadata": {}
  },
  {
   "cell_type": "markdown",
   "source": [
    "while loops\r\n",
    "The other type of loop in Python is a while loop, which iterates until some condition is met:"
   ],
   "metadata": {}
  },
  {
   "cell_type": "code",
   "execution_count": 6,
   "source": [
    "i = 0\r\n",
    "while i < 10:\r\n",
    "    print(i, end=' ')\r\n",
    "    i += 1  # increase the value of i by 1\r\n"
   ],
   "outputs": [
    {
     "output_type": "stream",
     "name": "stdout",
     "text": [
      "0 1 2 3 4 5 6 7 8 9 "
     ]
    }
   ],
   "metadata": {}
  },
  {
   "cell_type": "markdown",
   "source": [
    "The argument of the while loop is evaluated as a boolean statement, and the loop is executed until the statement evaluates to False."
   ],
   "metadata": {}
  },
  {
   "cell_type": "code",
   "execution_count": 7,
   "source": [
    "i =0\r\n",
    "\r\n",
    "while i <20:\r\n",
    "    print(i,end=\" \")\r\n",
    "    i += 1"
   ],
   "outputs": [
    {
     "output_type": "stream",
     "name": "stdout",
     "text": [
      "0 1 2 3 4 5 6 7 8 9 10 11 12 13 14 15 16 17 18 19 "
     ]
    }
   ],
   "metadata": {}
  },
  {
   "cell_type": "markdown",
   "source": [
    "List comprehensions\r\n",
    "List comprehensions are one of Python's most beloved and unique features. The easiest way to understand them is probably to just look at a few examples:"
   ],
   "metadata": {}
  },
  {
   "cell_type": "code",
   "execution_count": 8,
   "source": [
    "squares = [n**2 for n in range(10)]\r\n",
    "squares\r\n"
   ],
   "outputs": [
    {
     "output_type": "execute_result",
     "data": {
      "text/plain": [
       "[0, 1, 4, 9, 16, 25, 36, 49, 64, 81]"
      ]
     },
     "metadata": {},
     "execution_count": 8
    }
   ],
   "metadata": {}
  },
  {
   "cell_type": "markdown",
   "source": [
    "Here's how we would do the same thing without a list comprehension:\r\n"
   ],
   "metadata": {}
  },
  {
   "cell_type": "code",
   "execution_count": 9,
   "source": [
    "squares = []\r\n",
    "for n in range(10):\r\n",
    "    squares.append(n**2)\r\n",
    "squares\r\n"
   ],
   "outputs": [
    {
     "output_type": "execute_result",
     "data": {
      "text/plain": [
       "[0, 1, 4, 9, 16, 25, 36, 49, 64, 81]"
      ]
     },
     "metadata": {},
     "execution_count": 9
    }
   ],
   "metadata": {}
  },
  {
   "cell_type": "markdown",
   "source": [
    "We can also add an if condition:\r\n",
    "\r\n"
   ],
   "metadata": {}
  },
  {
   "cell_type": "code",
   "execution_count": 10,
   "source": [
    "short_planets = [ planet for planet in planets if len(planet) < 6 ] #print planet name lenght less than 6 characters\r\n",
    "short_planets\r\n",
    "\r\n"
   ],
   "outputs": [
    {
     "output_type": "execute_result",
     "data": {
      "text/plain": [
       "['Venus', 'Earth', 'Mars']"
      ]
     },
     "metadata": {},
     "execution_count": 10
    }
   ],
   "metadata": {}
  },
  {
   "cell_type": "markdown",
   "source": [
    "(If you're familiar with SQL, you might think of this as being like a \"WHERE\" clause)\r\n",
    "\r\n",
    "Here's an example of filtering with an if condition and applying some transformation to the loop variable:"
   ],
   "metadata": {}
  },
  {
   "cell_type": "code",
   "execution_count": 11,
   "source": [
    "# str.upper() returns an all-caps version of a string\r\n",
    "loud_short_planets = [planet.upper() + '!' for planet in planets if len(planet) < 6]\r\n",
    "loud_short_planets\r\n"
   ],
   "outputs": [
    {
     "output_type": "execute_result",
     "data": {
      "text/plain": [
       "['VENUS!', 'EARTH!', 'MARS!']"
      ]
     },
     "metadata": {},
     "execution_count": 11
    }
   ],
   "metadata": {}
  },
  {
   "cell_type": "markdown",
   "source": [
    "People usually write these on a single line, but you might find the structure clearer when it's split up over 3 lines:\r\n",
    "\r\n"
   ],
   "metadata": {}
  },
  {
   "cell_type": "code",
   "execution_count": 12,
   "source": [
    "[\r\n",
    "    planet.upper() + '!'\r\n",
    "    for planet in planets\r\n",
    "    if len(planet) < 6\r\n",
    "]\r\n"
   ],
   "outputs": [
    {
     "output_type": "execute_result",
     "data": {
      "text/plain": [
       "['VENUS!', 'EARTH!', 'MARS!']"
      ]
     },
     "metadata": {},
     "execution_count": 12
    }
   ],
   "metadata": {}
  },
  {
   "cell_type": "markdown",
   "source": [
    "(Continuing the SQL analogy, you could think of these three lines as SELECT, FROM, and WHERE)\r\n",
    "\r\n",
    "The expression on the left doesn't technically have to involve the loop variable (though it'd be pretty unusual for it not to). What do you think the expression below will evaluate to? Press the 'output' button to check."
   ],
   "metadata": {}
  },
  {
   "cell_type": "code",
   "execution_count": 14,
   "source": [
    "[32 for planet in planets]\r\n"
   ],
   "outputs": [
    {
     "output_type": "execute_result",
     "data": {
      "text/plain": [
       "[32, 32, 32, 32, 32, 32, 32, 32]"
      ]
     },
     "metadata": {},
     "execution_count": 14
    }
   ],
   "metadata": {}
  },
  {
   "cell_type": "markdown",
   "source": [
    "List comprehensions combined with functions like ( min, max, and sum ) can lead to impressive one-line solutions for problems that would otherwise require several lines of code.\r\n",
    "\r\n",
    "For example, compare the following two cells of code that do the same thing."
   ],
   "metadata": {}
  },
  {
   "cell_type": "code",
   "execution_count": 22,
   "source": [
    "def count_negatives(nums):\r\n",
    "    \"\"\"Return the number of negative numbers in the given list.\r\n",
    "    \r\n",
    "    >>> count_negatives([5, -1, -2, 0, 3])\r\n",
    "    2\r\n",
    "    \"\"\"\r\n",
    "    n_negative = 0\r\n",
    "\r\n",
    "    for num in nums:\r\n",
    "        if num < 0:\r\n",
    "            n_negative = n_negative + 1\r\n",
    "\r\n",
    "    return n_negative\r\n",
    "\r\n",
    "\r\n",
    "count_negatives([5, -1, -2, 0, 3])\r\n"
   ],
   "outputs": [
    {
     "output_type": "execute_result",
     "data": {
      "text/plain": [
       "2"
      ]
     },
     "metadata": {},
     "execution_count": 22
    }
   ],
   "metadata": {}
  },
  {
   "cell_type": "code",
   "execution_count": 25,
   "source": [
    "def count_negatives(nums):\r\n",
    "    return type(len([num for num in nums if num < 0]))\r\n",
    "\r\n",
    "count_negatives([5, -1, -2, 0, 3,-5])\r\n"
   ],
   "outputs": [
    {
     "output_type": "execute_result",
     "data": {
      "text/plain": [
       "int"
      ]
     },
     "metadata": {},
     "execution_count": 25
    }
   ],
   "metadata": {}
  },
  {
   "cell_type": "markdown",
   "source": [
    "Much better, right?\r\n",
    "\r\n",
    "Well if all we care about is minimizing the length of our code, this third solution is better still!"
   ],
   "metadata": {}
  },
  {
   "cell_type": "code",
   "execution_count": 28,
   "source": [
    "def count_negatives(nums):\r\n",
    "    # Reminder: in the \"booleans and conditionals\" exercises, we learned about a quirk of\r\n",
    "    # Python where it calculates something like True + True + False + True to be equal to 3.\r\n",
    "    return sum([num < 0 for num in nums])\r\n",
    "\r\n",
    "\r\n",
    "count_negatives([5, -1, -2, 0, 3, -5])\r\n"
   ],
   "outputs": [
    {
     "output_type": "execute_result",
     "data": {
      "text/plain": [
       "3"
      ]
     },
     "metadata": {},
     "execution_count": 28
    }
   ],
   "metadata": {}
  },
  {
   "cell_type": "markdown",
   "source": [
    "Which of these solutions is the \"best\" is entirely subjective. \r\n",
    "Solving a problem with less code is always nice, but it's worth keeping in mind the following lines from The Zen of Python:\r\n",
    "\r\n",
    "Readability counts.\r\n",
    "Explicit is better than implicit.\r\n",
    "\r\n",
    "So, use these tools to make compact readable programs. But when you have to choose, favor code that is easy for others to understand."
   ],
   "metadata": {}
  },
  {
   "cell_type": "code",
   "execution_count": null,
   "source": [],
   "outputs": [],
   "metadata": {}
  }
 ],
 "metadata": {
  "orig_nbformat": 4,
  "language_info": {
   "name": "python",
   "version": "3.9.6",
   "mimetype": "text/x-python",
   "codemirror_mode": {
    "name": "ipython",
    "version": 3
   },
   "pygments_lexer": "ipython3",
   "nbconvert_exporter": "python",
   "file_extension": ".py"
  },
  "kernelspec": {
   "name": "python3",
   "display_name": "Python 3.9.6 64-bit"
  },
  "interpreter": {
   "hash": "0ec66bbe782f389edb8615b95e71913b48001538f92dc4d53a6c71a0eff16772"
  }
 },
 "nbformat": 4,
 "nbformat_minor": 2
}